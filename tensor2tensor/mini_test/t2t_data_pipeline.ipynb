{
 "cells": [
  {
   "cell_type": "markdown",
   "metadata": {},
   "source": [
    "# t2t data pipeline"
   ]
  },
  {
   "cell_type": "markdown",
   "metadata": {},
   "source": [
    "```py\n",
    "# https://github.com/voiceofAI/magenta/blob/master/magenta/tensor2tensor/t2t_datagen.py\n",
    "\n",
    "```"
   ]
  },
  {
   "cell_type": "markdown",
   "metadata": {},
   "source": [
    "## 需要跟进\n",
    "- 讨论具体的实现过程，tensor2tensor的框架，包括后面的努力\n",
    "- 需要向导师反映的问题，汇总一下，包括：GPU的问题、线上平台的问题、乐理等基础知识、多模态问题\n",
    "- 好好吃一顿"
   ]
  },
  {
   "cell_type": "code",
   "execution_count": 1,
   "metadata": {},
   "outputs": [
    {
     "name": "stderr",
     "output_type": "stream",
     "text": [
      "WARNING: Logging before flag parsing goes to stderr.\n",
      "W0726 23:57:18.303866 139744479414016 deprecation_wrapper.py:119] From /home/zkcpku/anaconda3/envs/magenta/lib/python3.6/site-packages/magenta/pipelines/statistics.py:132: The name tf.logging.info is deprecated. Please use tf.compat.v1.logging.info instead.\n",
      "\n",
      "W0726 23:57:21.142350 139744479414016 deprecation_wrapper.py:119] From /home/zkcpku/anaconda3/envs/magenta/lib/python3.6/site-packages/magenta/music/note_sequence_io.py:60: The name tf.python_io.TFRecordWriter is deprecated. Please use tf.io.TFRecordWriter instead.\n",
      "\n"
     ]
    }
   ],
   "source": [
    "import tensorflow\n",
    "import magenta\n",
    "import os\n",
    "midi_path = 'midi_data/'\n",
    "input_path = 'input/'"
   ]
  },
  {
   "cell_type": "code",
   "execution_count": null,
   "metadata": {},
   "outputs": [],
   "source": [
    "!convert_dir_to_note_sequences  --input_dir=midi_data --output_file=input/notesequences.tfrecord --recursive"
   ]
  },
  {
   "cell_type": "code",
   "execution_count": null,
   "metadata": {},
   "outputs": [],
   "source": []
  }
 ],
 "metadata": {
  "kernelspec": {
   "display_name": "Python 3",
   "language": "python",
   "name": "python3"
  },
  "language_info": {
   "codemirror_mode": {
    "name": "ipython",
    "version": 3
   },
   "file_extension": ".py",
   "mimetype": "text/x-python",
   "name": "python",
   "nbconvert_exporter": "python",
   "pygments_lexer": "ipython3",
   "version": "3.6.8"
  }
 },
 "nbformat": 4,
 "nbformat_minor": 2
}
